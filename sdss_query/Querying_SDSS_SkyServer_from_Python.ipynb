{
 "cells": [
  {
   "cell_type": "markdown",
   "metadata": {},
   "source": [
    "# A simple way to query SDSS's database from Python"
   ]
  },
  {
   "cell_type": "markdown",
   "metadata": {},
   "source": [
    "### Import SDSS' sqlcl packages to query the SDSS database using web requests."
   ]
  },
  {
   "cell_type": "code",
   "execution_count": null,
   "metadata": {},
   "outputs": [],
   "source": [
    "import sqlcl # (DV) I modified sqlcl.py's code to query the DR13 and be usable in this jupyter notebook. \n",
    "             # It is included in this repository.\n",
    "             # The original file is available at http://skyserver.sdss.org/dr2/en/help/Download/sqlcl/default.asp"
   ]
  },
  {
   "cell_type": "markdown",
   "metadata": {},
   "source": [
    "### Import other useful packages to plot and manipulate data, and set plotting parameters with rc"
   ]
  },
  {
   "cell_type": "code",
   "execution_count": null,
   "metadata": {},
   "outputs": [],
   "source": [
    "from __future__ import division\n",
    "\n",
    "import sys\n",
    "import wget\n",
    "\n",
    "import numpy as np\n",
    "from pandas import read_csv\n",
    "from matplotlib import pyplot as plt\n",
    "from matplotlib import rc\n",
    "\n",
    "from astropy.io import fits\n",
    "import astropy.coordinates as coord\n",
    "import astropy.units as u\n",
    "\n",
    "# Set font size for labels and axes ticks (http://matplotlib.org/users/customizing.html)\n",
    "rc('font', size=18)\n",
    "rc('axes', titlesize=15)\n",
    "rc('axes', labelsize=14)\n",
    "\n",
    "rc('xtick', labelsize=11)\n",
    "rc('ytick', labelsize=11)\n",
    "\n",
    "rc('lines', markersize=4)\n",
    "\n",
    "rc('legend',fontsize=12)\n",
    "\n",
    "%matplotlib inline\n",
    "# Uncomment the following line if you have a mac with retina display\n",
    "%config InlineBackend.figure_format='retina'"
   ]
  },
  {
   "cell_type": "markdown",
   "metadata": {},
   "source": [
    "## Example 1: Print the result of a simple query"
   ]
  },
  {
   "cell_type": "code",
   "execution_count": null,
   "metadata": {},
   "outputs": [],
   "source": [
    "sqlcl.query(\"select top 2 ra, dec from galaxy\")"
   ]
  },
  {
   "cell_type": "code",
   "execution_count": null,
   "metadata": {},
   "outputs": [],
   "source": [
    "print sqlcl.query(\"select top 2 ra, dec from galaxy\").read()"
   ]
  },
  {
   "cell_type": "code",
   "execution_count": null,
   "metadata": {
    "collapsed": true
   },
   "outputs": [],
   "source": []
  },
  {
   "cell_type": "markdown",
   "metadata": {},
   "source": [
    "## Exercise 2.1:  Plot all our quasars on sky using astropy"
   ]
  },
  {
   "cell_type": "code",
   "execution_count": null,
   "metadata": {
    "collapsed": true
   },
   "outputs": [],
   "source": [
    "query = \"\"\"\n",
    "SELECT TOP 1000 sp.ra, sp.dec, sp.z, f.ra as ra2, f.dec as dec2\n",
    "FROM SpecPhoto AS sp \n",
    "INNER JOIN FIRST AS f \n",
    "    ON sp.objid = f.objid \n",
    "WHERE class = 'QSO'\n",
    "ORDER BY sp.z DESC\n",
    "        \"\"\"\n",
    "#ORDER BY sp.z DESC\n",
    "\n",
    "results = read_csv(sqlcl.query(query), skiprows=1)"
   ]
  },
  {
   "cell_type": "code",
   "execution_count": null,
   "metadata": {},
   "outputs": [],
   "source": [
    "results"
   ]
  },
  {
   "cell_type": "code",
   "execution_count": null,
   "metadata": {},
   "outputs": [],
   "source": [
    "# See http://www.astropy.org/astropy-tutorials/plot-catalog.html for more details about plotting with astropy\n",
    "\n",
    "# RA and DEC are in J2000 (from SpecObj view). \n",
    "ra = coord.Angle(results['ra']*u.degree)\n",
    "ra = ra.wrap_at(180*u.degree)\n",
    "dec = coord.Angle(results['dec']*u.degree)\n",
    "\n",
    "fig = plt.figure(figsize=(8,6))\n",
    "ax = fig.add_subplot(111, projection=\"mollweide\")\n",
    "\n",
    "# We change the labels -- default is degrees.\n",
    "ax.set_xticklabels(['14h','16h','18h','20h','22h','0h','2h','4h','6h','8h','10h'])\n",
    "\n",
    "ax.set_xlabel('RA')\n",
    "ax.set_ylabel('DEC')\n",
    "\n",
    "scat = ax.scatter(ra.radian, dec.radian)\n",
    "ax.grid(linestyle='--', linewidth=0.5)"
   ]
  },
  {
   "cell_type": "code",
   "execution_count": null,
   "metadata": {
    "collapsed": true
   },
   "outputs": [],
   "source": []
  },
  {
   "cell_type": "markdown",
   "metadata": {},
   "source": [
    "## Exercise 2.2: Plot quasars as a function of redshift"
   ]
  },
  {
   "cell_type": "code",
   "execution_count": null,
   "metadata": {},
   "outputs": [],
   "source": [
    "ra = coord.Angle(results['ra']*u.degree)\n",
    "ra = ra.wrap_at(180*u.degree)\n",
    "dec = coord.Angle(results['dec']*u.degree)\n",
    "z = results['z']\n",
    "\n",
    "fig = plt.figure(figsize=(8,6))\n",
    "ax = fig.add_subplot(111, projection=\"mollweide\")\n",
    "scat = ax.scatter(ra.radian, dec.radian, c=z)#, cmap='coolwarm')\n",
    "ax.set_xticklabels(['14h','16h','18h','20h','22h','0h','2h','4h','6h','8h','10h'])\n",
    "ax.set_xlabel('RA')\n",
    "ax.set_ylabel('DEC')\n",
    "\n",
    "ax.grid(True, linewidth=0.5)\n",
    "\n",
    "plt.colorbar(scat, ax=ax, label='z')"
   ]
  },
  {
   "cell_type": "code",
   "execution_count": null,
   "metadata": {
    "collapsed": true
   },
   "outputs": [],
   "source": []
  },
  {
   "cell_type": "markdown",
   "metadata": {},
   "source": [
    "## Exercise 3: Evaluate the spatial localisation difference between SDSS and FIRST"
   ]
  },
  {
   "cell_type": "code",
   "execution_count": null,
   "metadata": {},
   "outputs": [],
   "source": [
    "sub_results = results.loc[(results['ra2'] != 0.) & (results['dec2'] != 0.)]\n",
    "\n",
    "plt.scatter(x=sub_results['ra']-sub_results['ra2'], \n",
    "            y=sub_results['dec']-sub_results['dec2'],\n",
    "            c=sub_results['z'])\n",
    "            #cmap='winter')\n",
    "plt.xlabel('ra-ra2')\n",
    "plt.ylabel('dec-dec2')\n",
    "\n",
    "plt.title('Spatial localisation difference \\n between SDSS and FIRST as a function of redshift')\n",
    "plt.xlim([np.min(sub_results['ra']-sub_results['ra2']), np.max(sub_results['ra']-sub_results['ra2'])])\n",
    "plt.ylim([np.min(sub_results['dec']-sub_results['dec2']), np.max(sub_results['dec']-sub_results['dec2'])])\n",
    "plt.xticks(rotation=45)\n",
    "\n",
    "plt.colorbar(label='z')"
   ]
  },
  {
   "cell_type": "code",
   "execution_count": null,
   "metadata": {
    "collapsed": true
   },
   "outputs": [],
   "source": [
    "query = \"\"\"\n",
    "SELECT TOP 1000 sp.ra, sp.dec, sp.z, sp.subClass\n",
    "FROM SpecPhoto AS sp \n",
    "WHERE class = 'QSO'\n",
    "        \"\"\"\n",
    "#ORDER BY sp.z DESC\n",
    "\n",
    "results = read_csv(sqlcl.query(query), skiprows=1)"
   ]
  },
  {
   "cell_type": "code",
   "execution_count": null,
   "metadata": {},
   "outputs": [],
   "source": [
    "results['subClass'].unique()"
   ]
  },
  {
   "cell_type": "code",
   "execution_count": null,
   "metadata": {
    "collapsed": true
   },
   "outputs": [],
   "source": []
  },
  {
   "cell_type": "markdown",
   "metadata": {},
   "source": [
    "## Exercise 4.1: Download a spectrum based on information from query"
   ]
  },
  {
   "cell_type": "markdown",
   "metadata": {},
   "source": [
    "### From the \"Optical Spectra Per-Object Files\" section (http://www.sdss.org/dr12/data_access/bulk/)\n",
    "\n",
    "Spectra can be downloaded in bulk by filling a file (e.g. *speclist.txt*) with the list of spectra to be downloaded, \n",
    "with the following structure. \n",
    "\n",
    "    PLATE/spec-PLATE-MJD-FIBER.fits\n",
    "    \n",
    "e.g. \n",
    "\n",
    "    3586/spec-3586-55181-0016.fits\n",
    "    3609/spec-3609-55201-0646.fits\n",
    "    3661/spec-3661-55614-0020.fits\n",
    "    ...\n",
    "    \n",
    "And the download can be done using `wget`. \n",
    "\n",
    "```wget --spider -nv -r -nH --cut-dirs=7 \\\n",
    "      -i speclist.txt \\\n",
    "      -B http://data.sdss3.org/sas/dr12/boss/spectro/redux/v5_7_0/spectra/```"
   ]
  },
  {
   "cell_type": "code",
   "execution_count": null,
   "metadata": {
    "collapsed": true
   },
   "outputs": [],
   "source": [
    "query = \"\"\"\n",
    "SELECT TOP 1 sp.ra, sp.dec, sp.z, sp.plate, sp.mjd, sp.fiberID, sp.survey, sp.boss_target1\n",
    "FROM SpecPhoto AS sp \n",
    "WHERE class = 'QSO'\n",
    "        \"\"\"\n",
    "#ORDER BY sp.z DESC\n",
    "\n",
    "results = read_csv(sqlcl.query(query), skiprows=1)"
   ]
  },
  {
   "cell_type": "code",
   "execution_count": null,
   "metadata": {},
   "outputs": [],
   "source": [
    "results"
   ]
  },
  {
   "cell_type": "code",
   "execution_count": null,
   "metadata": {},
   "outputs": [],
   "source": [
    "for index, row in results.iterrows():\n",
    "    print (row['plate'], row['mjd'], row['fiberID'])"
   ]
  },
  {
   "cell_type": "code",
   "execution_count": null,
   "metadata": {},
   "outputs": [],
   "source": [
    "#http://data.sdss3.org/sas/dr13/boss/spectro/redux/v5_7_0/spectra/\n",
    "core_path = 'https://data.sdss.org/sas/dr13/sdss/spectro/redux/26/spectra/'\n",
    "\n",
    "for index, row in results.iterrows():\n",
    "    plate = str(int(row['plate']))\n",
    "    mjd = str(int(row['mjd']))\n",
    "    fiberID = str(int(row['fiberID']))\n",
    "\n",
    "    # Construct the file path\n",
    "    file_path = plate + '/spec-' + plate + '-' + mjd + '-0' + fiberID + '.fits'\n",
    "    \n",
    "    url = core_path + file_path    \n",
    "    print (url)\n",
    "    filename = wget.download(url)"
   ]
  },
  {
   "cell_type": "code",
   "execution_count": null,
   "metadata": {},
   "outputs": [],
   "source": [
    "filename"
   ]
  },
  {
   "cell_type": "code",
   "execution_count": null,
   "metadata": {
    "scrolled": false
   },
   "outputs": [],
   "source": [
    "spectrum = fits.open('spec-1725-54266-0252.fits')\n",
    "\n",
    "spectrum[0].header"
   ]
  },
  {
   "cell_type": "code",
   "execution_count": null,
   "metadata": {},
   "outputs": [],
   "source": [
    "spectrum[1].header"
   ]
  },
  {
   "cell_type": "code",
   "execution_count": null,
   "metadata": {
    "scrolled": false
   },
   "outputs": [],
   "source": [
    "for chunk in spectrum[1].data[0:10]:\n",
    "    print (chunk)"
   ]
  },
  {
   "cell_type": "code",
   "execution_count": null,
   "metadata": {},
   "outputs": [],
   "source": [
    "plt.plot(spectrum[1].data)\n",
    "\n",
    "plt.ylabel('Flux')\n",
    "plt.xlabel('Bin index')\n",
    "\n",
    "# We need to use the information from the header to set the ticks correctly"
   ]
  },
  {
   "cell_type": "markdown",
   "metadata": {},
   "source": [
    "### Exercise 4.2: Download and plot the data via the astroML package (fetch_sdss_spectrum)"
   ]
  },
  {
   "cell_type": "code",
   "execution_count": null,
   "metadata": {},
   "outputs": [],
   "source": [
    "from astroML.datasets import fetch_sdss_spectrum\n",
    "\n",
    "for index, row in results.iterrows():\n",
    "    plate = int(row['plate'])\n",
    "    mjd = int(row['mjd'])\n",
    "    fiberID = int(row['fiberID'])\n",
    "\n",
    "    spec = fetch_sdss_spectrum(int(plate), int(mjd), int(fiberID))"
   ]
  },
  {
   "cell_type": "code",
   "execution_count": null,
   "metadata": {},
   "outputs": [],
   "source": [
    "fig, ax = plt.subplots(figsize=(5, 3.75))\n",
    "ax.plot(spec.wavelength(), spec.spectrum, '-k', lw=1)\n",
    "\n",
    "# ax.set_xlim(3000, 10000)\n",
    "# ax.set_ylim(25, 300)\n",
    "\n",
    "ax.set_xlabel(r'$\\lambda {(\\rm \\AA)}$')\n",
    "ax.set_ylabel('Flux')\n",
    "ax.set_title('Plate = %(plate)i, MJD = %(mjd)i, Fiber = %(fiberID)i' % locals())\n",
    "\n",
    "plt.show()"
   ]
  },
  {
   "cell_type": "code",
   "execution_count": null,
   "metadata": {},
   "outputs": [],
   "source": []
  },
  {
   "cell_type": "code",
   "execution_count": null,
   "metadata": {
    "collapsed": true
   },
   "outputs": [],
   "source": []
  }
 ],
 "metadata": {
  "anaconda-cloud": {},
  "kernelspec": {
   "display_name": "Python 2",
   "language": "python",
   "name": "python2"
  },
  "language_info": {
   "codemirror_mode": {
    "name": "ipython",
    "version": 2
   },
   "file_extension": ".py",
   "mimetype": "text/x-python",
   "name": "python",
   "nbconvert_exporter": "python",
   "pygments_lexer": "ipython2",
   "version": "2.7.13"
  }
 },
 "nbformat": 4,
 "nbformat_minor": 2
}
